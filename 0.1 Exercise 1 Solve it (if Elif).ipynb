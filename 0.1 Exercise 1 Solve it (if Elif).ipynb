{
 "cells": [
  {
   "cell_type": "markdown",
   "metadata": {},
   "source": [
    "1. Write a Python program to get the Python version you are using\n",
    "2. Write a Python program which accepts the radius of a circle from the user and compute the area.\n",
    "3. Write a Python program which accepts the users first and last name and print them in reverse order with a space between them.\n",
    "4. Write a Python program which accepts a sequence of comma-separated numbers from user and generate a list and a tuple with those numbers. Go to the editor\n",
    "Sample data : 3, 5, 7, 23\n",
    "Output : \n",
    "List : ['3', ' 5', ' 7', ' 23'] \n",
    "Tuple : ('3', ' 5', ' 7', ' 23')\n",
    "\n",
    "5. Write a Python program to test whether a number is within 100 of 1000 or 2000.\n",
    "6. Write a Python program to calculate the sum of three given numbers, if the values are equal then return thrice of their sum.\n",
    "7. Write a Python program to find whether a given number (accept from the user) is even or odd, print out an appropriate message to the user.\n",
    "8. Write a Python program to count the number 4 in a given list.\n",
    "l=[4,3,4,5,6,7]\n",
    "output: 2\n",
    "9. Write a Python program to test whether a passed letter is a vowel or not.\n",
    "10. Write a Python program to compute the greatest common divisor (GCD) of two positive integers.\n",
    "11.  Write a Python program to get the least common multiple (LCM) of two positive integers.\n",
    "12. Write a Python program to sum of three given integers. However, if two values are equal sum will be zero.\n",
    "13. Write a Python program to sum of two given integers. However, if the sum is between 15 to 20 it will return 20.\n",
    "14. Write a Python program that will return true if the two given integer values are equal or their sum or difference is 5.\n",
    "15. Write a Python program to add two objects if both objects are an integer type.Else throw awarning to user.\n",
    "16. Write a Python program to display your details like name, age, address in three different lines. \n",
    "17.  Write a Python program to solve (x + y) * (x + y).\n",
    "18.  Write a Python program to compute the distance between the points (x1, y1) and (x2, y2).\n",
    "19. Given variables x=30 and y=20, write a Python program to print  \"30+20=50\". \n",
    "20. Write a Python program to swap two variables.\n",
    "21. Write a Python program to check if a string is numeric.\n",
    "22. Write a Python program to filter the positive numbers from a list.\n",
    "23. Write a Python program to input a number, if it is not a number generate an error message.\n",
    "24. Write a Python program to remove the first item from a specified list.\n",
    "25. Write a Python program to compute the product of a list of integers (without using for loop).\n",
    "26. Write a Python program to convert true to 1 and false to 0\n",
    "27. Write a Python program to convert an integer to binary keep leading zeros.\n",
    "Sample data : 50\n",
    "Expected output : 00001100, 0000001100\n",
    "28.Write a Python program to test if a variable is a list or tuple or a set. \n",
    "29.Write a Python function to check whether a number is divisible by another number. Accept two integers values form the user.\n",
    "30. Write a Python function that takes a positive integer and returns the sum of the cube of all the positive integers smaller than the specified number."
   ]
  },
  {
   "cell_type": "code",
   "execution_count": null,
   "metadata": {},
   "outputs": [],
   "source": [
    "#1. Write a Python program to get the Python version you are using\n",
    "import sys\n",
    "print(sys.version)\n",
    "print(type(sys.version))\n",
    "print(len(sys.version))\n",
    "print (sys.version_info)\n"
   ]
  },
  {
   "cell_type": "code",
   "execution_count": 3,
   "metadata": {},
   "outputs": [
    {
     "name": "stdout",
     "output_type": "stream",
     "text": [
      "Enter a multiple value: 1,2,3,53\n",
      "<class 'int'>\n",
      "[1, 2, 3, 53]\n",
      "<class 'tuple'>\n",
      "(1, 2, 3, 53)\n"
     ]
    }
   ],
   "source": [
    "#4. Write a Python program which accepts a sequence of comma-separated numbers from user and generate a list and a \n",
    "# tuple with those numbers. Go to the editor\n",
    "\n",
    "x = list(map(int, input(\"Enter a multiple value: \").split(','))) \n",
    "\n",
    "print(type(x[0])) \n",
    "\n",
    "print(x)\n",
    "\n",
    "t = tuple(x)\n",
    "\n",
    "print(type(t)) \n",
    "\n",
    "print(t)"
   ]
  },
  {
   "cell_type": "code",
   "execution_count": 5,
   "metadata": {},
   "outputs": [],
   "source": [
    "\n"
   ]
  }
 ],
 "metadata": {
  "kernelspec": {
   "display_name": "Python 3",
   "language": "python",
   "name": "python3"
  },
  "language_info": {
   "codemirror_mode": {
    "name": "ipython",
    "version": 3
   },
   "file_extension": ".py",
   "mimetype": "text/x-python",
   "name": "python",
   "nbconvert_exporter": "python",
   "pygments_lexer": "ipython3",
   "version": "3.6.9"
  }
 },
 "nbformat": 4,
 "nbformat_minor": 2
}
